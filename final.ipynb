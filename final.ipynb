{
 "cells": [
  {
   "cell_type": "code",
   "execution_count": 1,
   "id": "9a621f5b",
   "metadata": {},
   "outputs": [],
   "source": [
    "import pandas as pd"
   ]
  },
  {
   "cell_type": "code",
   "execution_count": 2,
   "id": "eacfcdec",
   "metadata": {},
   "outputs": [],
   "source": [
    "top_10_selection_df = pd.read_csv(\"C:\\\\Users\\\\akash mishra\\\\Downloads\\\\nifty_50_top_10_selection_52 (1).csv\")\n",
    "accurate_percent_change_df = pd.read_csv(\"C:\\\\Users\\\\akash mishra\\\\Downloads\\\\nifty_50_accurate_percent_change_per_candle_52 (1).csv\")"
   ]
  },
  {
   "cell_type": "code",
   "execution_count": 3,
   "id": "fb049331",
   "metadata": {},
   "outputs": [],
   "source": [
    "# Convert 'datetime' to datetime format\n",
    "accurate_percent_change_df['datetime'] = pd.to_datetime(accurate_percent_change_df['datetime'])\n",
    "top_10_selection_df['datetime'] = pd.to_datetime(top_10_selection_df['datetime'])\n"
   ]
  },
  {
   "cell_type": "code",
   "execution_count": 4,
   "id": "c34858c6",
   "metadata": {},
   "outputs": [],
   "source": [
    "# Initial portfolio setup\n",
    "initial_investment_per_stock = 100\n",
    "total_investment = 1000\n"
   ]
  },
  {
   "cell_type": "code",
   "execution_count": 5,
   "id": "fa85c8c4",
   "metadata": {},
   "outputs": [],
   "source": [
    "# Initialize variables to track portfolio value and average changes\n",
    "portfolio_values = []\n",
    "change_counts = []"
   ]
  },
  {
   "cell_type": "code",
   "execution_count": 6,
   "id": "512e6fb6",
   "metadata": {},
   "outputs": [],
   "source": [
    "# Initialize portfolio for the first week\n",
    "portfolio = {}\n",
    "first_week_top_10 = eval(top_10_selection_df.loc[0, 'top_10'])\n",
    "for stock in first_week_top_10:\n",
    "    portfolio[stock] = initial_investment_per_stock"
   ]
  },
  {
   "cell_type": "code",
   "execution_count": 7,
   "id": "53ff3116",
   "metadata": {},
   "outputs": [
    {
     "data": {
      "text/plain": [
       "{'TREN.NS': 100,\n",
       " 'BAJE.NS': 100,\n",
       " 'NTPC.NS': 100,\n",
       " 'BAJA.NS': 100,\n",
       " 'COAL.NS': 100,\n",
       " 'ONGC.NS': 100,\n",
       " 'BRTI.NS': 100,\n",
       " 'HROM.NS': 100,\n",
       " 'HALC.NS': 100,\n",
       " 'PGRD.NS': 100}"
      ]
     },
     "execution_count": 7,
     "metadata": {},
     "output_type": "execute_result"
    }
   ],
   "source": [
    "portfolio"
   ]
  },
  {
   "cell_type": "code",
   "execution_count": 8,
   "id": "cb43eeea",
   "metadata": {},
   "outputs": [
    {
     "name": "stdout",
     "output_type": "stream",
     "text": [
      "{'TREN.NS': 100.00557839107458, 'BAJE.NS': 100.02792778892146, 'NTPC.NS': 99.99302264349657, 'BAJA.NS': 99.97871998173477, 'COAL.NS': 100.00956256358087, 'ONGC.NS': 100.06557945870922, 'BRTI.NS': 100.00248303839967, 'HROM.NS': 99.99799390073856, 'HALC.NS': 99.98984481155689, 'PGRD.NS': 100.01090159104302}\n",
      "\n",
      "Week 2\n",
      "Removed Stock:  {'HROM.NS'}\n",
      "Added Stock:  {'APSE.NS'}\n",
      "{'TREN.NS': 99.91976957893243, 'BAJE.NS': 99.9474489998268, 'NTPC.NS': 99.95988164434388, 'BAJA.NS': 99.9739811764614, 'COAL.NS': 99.99303538879205, 'ONGC.NS': 100.10647242589278, 'BRTI.NS': 100.02236840917654, 'HALC.NS': 99.94787233858852, 'PGRD.NS': 99.97912896418956, 'APSE.NS': 99.98629036206988}\n",
      "\n",
      "Week 3\n",
      "Removed Stock:  {'TREN.NS'}\n",
      "Added Stock:  {'HROM.NS'}\n",
      "{'BAJE.NS': 99.95919600656526, 'NTPC.NS': 100.04664238077727, 'BAJA.NS': 99.98536212999211, 'COAL.NS': 100.03780686057986, 'ONGC.NS': 100.1438968696747, 'BRTI.NS': 100.05839493694629, 'HALC.NS': 99.95480688176737, 'PGRD.NS': 100.01524424256313, 'APSE.NS': 100.03627329970749, 'HROM.NS': 99.9291951039291}\n",
      "\n",
      "Week 4\n",
      "Removed Stock:  {'APSE.NS'}\n",
      "Added Stock:  {'TREN.NS'}\n",
      "{'BAJE.NS': 99.93677856828693, 'NTPC.NS': 100.10571609845857, 'BAJA.NS': 99.99834888340848, 'COAL.NS': 100.0665516653363, 'ONGC.NS': 100.13936683815164, 'BRTI.NS': 100.04478424666829, 'HALC.NS': 99.92553611372455, 'PGRD.NS': 100.05606975626469, 'HROM.NS': 99.89186004353783, 'TREN.NS': 100.06314946387472}\n",
      "\n",
      "Week 5\n",
      "Removed Stock:  {'HALC.NS', 'HROM.NS'}\n",
      "Added Stock:  {'MAHM.NS', 'TAMO.NS'}\n",
      "{'BAJE.NS': 99.93430447738328, 'NTPC.NS': 100.08413028166821, 'BAJA.NS': 100.01392130572218, 'COAL.NS': 100.0766632520632, 'ONGC.NS': 100.14679917528443, 'BRTI.NS': 100.0248931629079, 'PGRD.NS': 100.02185658516869, 'TREN.NS': 100.19632609452488, 'MAHM.NS': 99.90851640333055, 'TAMO.NS': 99.88268801771709}\n",
      "\n",
      "Week 6\n",
      "Removed Stock:  set()\n",
      "Added Stock:  set()\n",
      "{'BAJE.NS': 99.9379420596111, 'NTPC.NS': 100.0534214044845, 'BAJA.NS': 100.02643591124806, 'COAL.NS': 100.04360659659112, 'ONGC.NS': 100.13791530646569, 'BRTI.NS': 100.03818108157478, 'PGRD.NS': 100.00046462740193, 'TREN.NS': 100.23257837661235, 'MAHM.NS': 99.94169628637667, 'TAMO.NS': 99.9109761116459}\n",
      "\n",
      "Week 7\n",
      "Removed Stock:  set()\n",
      "Added Stock:  set()\n",
      "{'BAJE.NS': 99.94683861231671, 'NTPC.NS': 100.06322440268768, 'BAJA.NS': 100.07886604401587, 'COAL.NS': 100.09545429823349, 'ONGC.NS': 100.10540694196996, 'BRTI.NS': 100.05382521760721, 'PGRD.NS': 99.99352425256806, 'TREN.NS': 100.30138191278115, 'MAHM.NS': 99.91303797110083, 'TAMO.NS': 99.8989687835203}\n",
      "\n",
      "Week 8\n",
      "Removed Stock:  {'MAHM.NS'}\n",
      "Added Stock:  {'HROM.NS'}\n",
      "{'BAJE.NS': 99.92495482739179, 'NTPC.NS': 100.09869898777883, 'BAJA.NS': 100.12551812798107, 'COAL.NS': 100.0696339991754, 'ONGC.NS': 100.14260509412621, 'BRTI.NS': 100.10847549015016, 'PGRD.NS': 99.99694410544213, 'TREN.NS': 100.33169425701814, 'TAMO.NS': 99.92308851795451, 'HROM.NS': 99.92611875101683}\n",
      "\n",
      "Week 9\n",
      "Removed Stock:  set()\n",
      "Added Stock:  set()\n",
      "{'BAJE.NS': 99.87253846284818, 'NTPC.NS': 100.047230651442, 'BAJA.NS': 100.11986905774867, 'COAL.NS': 100.00024577786728, 'ONGC.NS': 100.07614613171302, 'BRTI.NS': 100.07710201493282, 'PGRD.NS': 99.97441960113859, 'TREN.NS': 100.32395783722001, 'TAMO.NS': 99.8673434197576, 'HROM.NS': 99.97893558633938}\n",
      "\n",
      "Week 10\n",
      "Removed Stock:  {'BAJE.NS', 'NTPC.NS', 'COAL.NS'}\n",
      "Added Stock:  {'SHMF.NS', 'SUN.NS', 'BPCL.NS'}\n",
      "{'BAJA.NS': 100.20372214057231, 'ONGC.NS': 100.01991811567075, 'BRTI.NS': 100.13899800396528, 'PGRD.NS': 99.99700327081804, 'TREN.NS': 100.34226134030749, 'TAMO.NS': 99.81285821071599, 'HROM.NS': 99.98799570141624, 'SHMF.NS': 100.01430831780905, 'SUN.NS': 99.98933797663982, 'BPCL.NS': 99.94537471986975}\n",
      "\n",
      "Week 11\n",
      "Removed Stock:  {'ONGC.NS', 'BPCL.NS', 'TAMO.NS'}\n",
      "Added Stock:  {'MAHM.NS', 'BAJE.NS', 'COAL.NS'}\n",
      "{'BAJA.NS': 100.22118521411558, 'BRTI.NS': 100.18635793877947, 'PGRD.NS': 100.00767752468832, 'TREN.NS': 100.3744456647456, 'HROM.NS': 100.02550974549173, 'SHMF.NS': 100.06296071717928, 'SUN.NS': 99.99581065124923, 'MAHM.NS': 100.00329959544393, 'BAJE.NS': 99.88262671590532, 'COAL.NS': 99.92747713580457}\n",
      "\n",
      "Week 12\n",
      "Removed Stock:  {'SUN.NS'}\n",
      "Added Stock:  {'NTPC.NS'}\n",
      "{'BAJA.NS': 100.28200594560663, 'BRTI.NS': 100.19973172746883, 'PGRD.NS': 100.04699402399389, 'TREN.NS': 100.42399992949547, 'HROM.NS': 100.01621123637474, 'SHMF.NS': 100.08815989148293, 'MAHM.NS': 100.08219472107153, 'BAJE.NS': 99.9406079774927, 'COAL.NS': 99.9786671969099, 'NTPC.NS': 100.02635542652777}\n",
      "\n",
      "Week 13\n",
      "Removed Stock:  {'NTPC.NS'}\n",
      "Added Stock:  {'SUN.NS'}\n",
      "{'BAJA.NS': 100.21138481465901, 'BRTI.NS': 100.14560561849348, 'PGRD.NS': 100.00350147048734, 'TREN.NS': 100.36241512338069, 'HROM.NS': 99.94292852475854, 'SHMF.NS': 100.00945315302558, 'MAHM.NS': 100.02994758095676, 'BAJE.NS': 99.88526516339714, 'COAL.NS': 99.9420541992346, 'SUN.NS': 100.00651646395151}\n",
      "\n",
      "Week 14\n",
      "Removed Stock:  set()\n",
      "Added Stock:  set()\n",
      "{'BAJA.NS': 100.220112798686, 'BRTI.NS': 100.17398498750597, 'PGRD.NS': 99.9775303678478, 'TREN.NS': 100.4827482028056, 'HROM.NS': 99.93486372048785, 'SHMF.NS': 100.0109219847267, 'MAHM.NS': 100.06870050435968, 'BAJE.NS': 99.9166144349311, 'COAL.NS': 99.93351128430406, 'SUN.NS': 100.00227546092354}\n",
      "\n",
      "Week 15\n",
      "Removed Stock:  {'COAL.NS', 'HROM.NS'}\n",
      "Added Stock:  {'HALC.NS', 'BPCL.NS'}\n",
      "{'BAJA.NS': 100.06712818184076, 'BRTI.NS': 100.18612530985394, 'PGRD.NS': 99.98358869418428, 'TREN.NS': 100.42577712813497, 'SHMF.NS': 100.01195466065406, 'MAHM.NS': 100.01439359557224, 'BAJE.NS': 99.9209829472796, 'SUN.NS': 100.0066920813072, 'HALC.NS': 99.94241116270423, 'BPCL.NS': 99.94854203547419}\n",
      "\n",
      "Week 16\n",
      "Removed Stock:  {'BAJA.NS'}\n",
      "Added Stock:  {'NTPC.NS'}\n",
      "{'BRTI.NS': 100.16157520683424, 'PGRD.NS': 99.93465831272725, 'TREN.NS': 100.37321165677433, 'SHMF.NS': 99.93660144709065, 'MAHM.NS': 99.93226994405445, 'BAJE.NS': 99.8694826670212, 'SUN.NS': 99.98054329040782, 'HALC.NS': 99.8432645769788, 'BPCL.NS': 99.8429029925053, 'NTPC.NS': 100.00578570180458}\n",
      "\n",
      "Week 17\n",
      "Removed Stock:  {'SHMF.NS', 'HALC.NS', 'NTPC.NS', 'PGRD.NS', 'BPCL.NS', 'MAHM.NS'}\n",
      "Added Stock:  {'BAJA.NS', 'APLH.NS', 'TEML.NS', 'EICH.NS', 'ICBK.NS', 'GRAS.NS'}\n",
      "{'BRTI.NS': 100.13178525454433, 'TREN.NS': 100.34424414518833, 'BAJE.NS': 99.92925401152175, 'SUN.NS': 99.97946846194846, 'BAJA.NS': 99.88359272813561, 'APLH.NS': 99.92844495095211, 'TEML.NS': 99.8502520558827, 'EICH.NS': 99.9946871561518, 'ICBK.NS': 99.94484324468351, 'GRAS.NS': 99.94789211761315}\n",
      "\n"
     ]
    }
   ],
   "source": [
    "# Iterate through each week in the top 10 selection file\n",
    "for i in range(len(top_10_selection_df)):\n",
    "    # Get the week's date and top 10 stocks\n",
    "    week_date = top_10_selection_df.loc[i, 'datetime']\n",
    "    current_week_top_10 = eval(top_10_selection_df.loc[i, 'top_10'])\n",
    "\n",
    "    # If not the first week, adjust the portfolio based on stock replacements\n",
    "    if i > 0:\n",
    "        # Find stocks removed and added in the current week\n",
    "        previous_week_top_10 = eval(top_10_selection_df.loc[i - 1, 'top_10'])\n",
    "        removed_stocks = set(previous_week_top_10) - set(current_week_top_10)\n",
    "        added_stocks = set(current_week_top_10) - set(previous_week_top_10)\n",
    "        print(f\"Week {i+1}\")\n",
    "        print(\"Removed Stock: \",removed_stocks)\n",
    "        print(\"Added Stock: \" , added_stocks)\n",
    "        # Count the changes for this week\n",
    "        change_counts.append(len(removed_stocks))\n",
    "\n",
    "        # Calculate average value of removed stocks if there are any\n",
    "        if removed_stocks:\n",
    "            avg_value_removed_stocks = sum(portfolio[stock] for stock in removed_stocks) / len(removed_stocks)\n",
    "        else:\n",
    "            avg_value_removed_stocks = 0\n",
    "            \n",
    "        # Remove old stocks and add new ones with averaged investment\n",
    "        for stock in removed_stocks:\n",
    "            del portfolio[stock]\n",
    "        for stock in added_stocks:\n",
    "            portfolio[stock] = avg_value_removed_stocks\n",
    "            \n",
    "    # Get the accurate percent change data for the week\n",
    "    week_data = accurate_percent_change_df[accurate_percent_change_df['datetime'] == week_date]\n",
    "\n",
    "    # Calculate returns for each stock in the current top 10\n",
    "    for stock in current_week_top_10:\n",
    "        percent_change_column = f\"{stock}_per_candle_percent_change_cc\"\n",
    "        if percent_change_column in week_data.columns:\n",
    "            percent_change = week_data[percent_change_column].values[0]\n",
    "            portfolio[stock] *= (1 + percent_change / 100)\n",
    "            \n",
    "    \n",
    "    print(portfolio)\n",
    "    print()\n",
    "\n",
    "    # Store the total portfolio value after this week\n",
    "    portfolio_values.append(sum(portfolio.values()))"
   ]
  },
  {
   "cell_type": "code",
   "execution_count": 9,
   "id": "d0758456",
   "metadata": {},
   "outputs": [
    {
     "data": {
      "text/plain": [
       "[1, 1, 1, 2, 0, 0, 1, 0, 3, 3, 1, 1, 0, 2, 1, 6]"
      ]
     },
     "execution_count": 9,
     "metadata": {},
     "output_type": "execute_result"
    }
   ],
   "source": [
    "change_counts"
   ]
  },
  {
   "cell_type": "code",
   "execution_count": 10,
   "id": "925293e4",
   "metadata": {},
   "outputs": [],
   "source": [
    "# Calculate average number of changes\n",
    "average_changes = sum(change_counts) / len(change_counts) if change_counts else 0"
   ]
  },
  {
   "cell_type": "code",
   "execution_count": 11,
   "id": "19784d36",
   "metadata": {},
   "outputs": [
    {
     "name": "stdout",
     "output_type": "stream",
     "text": [
      "Portfolio values over weeks:\n"
     ]
    },
    {
     "data": {
      "text/plain": [
       "[1000.0816141692555,\n",
       " 999.8362492882738,\n",
       " 1000.1668187125025,\n",
       " 1000.228161677712,\n",
       " 1000.2900987557705,\n",
       " 1000.3232177620121,\n",
       " 1000.4505284368013,\n",
       " 1000.6477321580351,\n",
       " 1000.3377885410076,\n",
       " 1000.4517777977848,\n",
       " 1000.687350903403,\n",
       " 1001.0849280764245,\n",
       " 1000.5390721123446,\n",
       " 1000.7212637465783,\n",
       " 1000.5075957970055,\n",
       " 999.8802957961985,\n",
       " 999.9344641266218]"
      ]
     },
     "execution_count": 11,
     "metadata": {},
     "output_type": "execute_result"
    }
   ],
   "source": [
    "print(\"Portfolio values over weeks:\")\n",
    "portfolio_values"
   ]
  },
  {
   "cell_type": "code",
   "execution_count": 12,
   "id": "afb9ea4a",
   "metadata": {},
   "outputs": [],
   "source": [
    "# Calculate total portfolio return as a percentage\n",
    "initial_total_value = 1000\n",
    "final_total_value = portfolio_values[-1] if portfolio_values else initial_total_value\n",
    "total_return = ((final_total_value - initial_total_value) / initial_total_value) * 100\n"
   ]
  },
  {
   "cell_type": "code",
   "execution_count": null,
   "id": "2232293d",
   "metadata": {},
   "outputs": [],
   "source": []
  },
  {
   "cell_type": "code",
   "execution_count": 13,
   "id": "fc45b93e",
   "metadata": {},
   "outputs": [
    {
     "name": "stdout",
     "output_type": "stream",
     "text": [
      "Average number of changes per week: 1.4375\n"
     ]
    }
   ],
   "source": [
    "print(\"Average number of changes per week:\", average_changes)"
   ]
  },
  {
   "cell_type": "code",
   "execution_count": 14,
   "id": "4e9deb8e",
   "metadata": {},
   "outputs": [
    {
     "name": "stdout",
     "output_type": "stream",
     "text": [
      "Total portfolio return (%): -0.0065535873378166805\n"
     ]
    }
   ],
   "source": [
    "print(\"Total portfolio return (%):\", total_return)"
   ]
  },
  {
   "cell_type": "code",
   "execution_count": null,
   "id": "b0fb739a",
   "metadata": {},
   "outputs": [],
   "source": []
  }
 ],
 "metadata": {
  "kernelspec": {
   "display_name": "Python 3 (ipykernel)",
   "language": "python",
   "name": "python3"
  },
  "language_info": {
   "codemirror_mode": {
    "name": "ipython",
    "version": 3
   },
   "file_extension": ".py",
   "mimetype": "text/x-python",
   "name": "python",
   "nbconvert_exporter": "python",
   "pygments_lexer": "ipython3",
   "version": "3.9.12"
  }
 },
 "nbformat": 4,
 "nbformat_minor": 5
}
